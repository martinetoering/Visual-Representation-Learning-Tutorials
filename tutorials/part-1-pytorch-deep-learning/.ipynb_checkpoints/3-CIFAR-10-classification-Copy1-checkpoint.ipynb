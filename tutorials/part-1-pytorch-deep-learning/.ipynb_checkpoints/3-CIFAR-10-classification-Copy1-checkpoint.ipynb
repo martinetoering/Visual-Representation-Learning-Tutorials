{
 "cells": [
  {
   "cell_type": "markdown",
   "metadata": {},
   "source": [
    "# Classifying CIFAR-10\n",
    "\n",
    "Now it's your turn to build and train a neural network. You'll be using the [CIFAR-10 Dataset](https://github.com/zalandoresearch/fashion-mnist). \n",
    "\n",
    "<img src='../../assets/cifar.png' width=500px>\n",
    "\n",
    "In this notebook, you'll build your own neural network. It's important for you to write the code yourself and get it to work. Furthermore, we would like you to experiment with choices.\n"
   ]
  },
  {
   "cell_type": "markdown",
   "metadata": {},
   "source": [
    "## Prepare data\n",
    "\n",
    "First off, let's load the dataset."
   ]
  },
  {
   "cell_type": "code",
   "execution_count": null,
   "metadata": {},
   "outputs": [],
   "source": [
    "import torch"
   ]
  }
 ],
 "metadata": {
  "kernelspec": {
   "display_name": "Python 3",
   "language": "python",
   "name": "python3"
  },
  "language_info": {
   "codemirror_mode": {
    "name": "ipython",
    "version": 3
   },
   "file_extension": ".py",
   "mimetype": "text/x-python",
   "name": "python",
   "nbconvert_exporter": "python",
   "pygments_lexer": "ipython3",
   "version": "3.6.12"
  }
 },
 "nbformat": 4,
 "nbformat_minor": 4
}
